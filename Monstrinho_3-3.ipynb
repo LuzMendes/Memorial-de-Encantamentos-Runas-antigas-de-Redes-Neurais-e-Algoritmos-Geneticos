{
 "cells": [
  {
   "cell_type": "markdown",
   "metadata": {},
   "source": [
    "<img src=\"https://pages.cnpem.br/workshopbioimagens/wp-content/uploads/sites/166/2023/06/logo-ilum-2048x382.png\" alt=\"Descrição da imagem\" style=\"width: 1000px; height: auto; \">\n",
    "\n",
    "<div style=\" padding: 10px; font-size: 34px; text-align: center;\">\n",
    "<strong>Batalha EletroDunder: A Origem</strong> \n",
    "\n",
    "\n",
    "<div style=\" padding: 10px; font-size: 17px; text-align: center;\">\n",
    "<strong>Autor:</strong> Ana Luz Pereira Mendes \n",
    "<div style=\" padding: 10px; font-size: 17px; text-align: center;\">\n",
    "<strong>Professor:</strong> Daniel R. Cassar"
   ]
  },
  {
   "cell_type": "markdown",
   "metadata": {},
   "source": [
    "# Monstrinho 3.3 \n",
    "\n",
    "*Classes em Python não pagam imposto sobre herança*\n",
    "\n",
    "Objetivo: Modele algum conceito científico utilizando herança de classes.\n",
    "\n",
    "Considerações do experimento: O uso da herança de classes deve fazer sentido dentro do contexto científico escolhido, isto é, deve haver uma justificativa bem embasada para o uso de herança de classes na sua entrega. Certifique-se que a classe mãe tem pelo menos um método que não seja dunder para ser herdado pela classe filha. Garanta que a classe filha tem pelo menos um método (dunder ou não) que justifique a sua criação.\n",
    "\n",
    "\n",
    "---------------"
   ]
  },
  {
   "cell_type": "markdown",
   "metadata": {},
   "source": [
    "# 🔬Conceito ciêntifico\n",
    "\n",
    "Um circuito elérico é fortmado por vários Componentes Elétricos:\n",
    "\n",
    "Geradores → Fornecem energia elétrica (exemplo: baterias, dínamos).\n",
    "\n",
    "Resistores → Limitam a corrente elétrica e dissipam energia na forma de calor.\n",
    "\n",
    "Capacitores → Armazenam energia elétrica no campo elétrico.\n",
    "\n",
    "Assim, baseado nesse conceito ciêntifico é possível modela-lo com uso de herança de classes. Isso é possível porque Componetes elétricos possuem atributos (corrente, diferença de potencial e resistência) e metodos em comum como dependendo do tempo em que o componente elétrico está ligado é possível saber a carga que passou por ele. Então, acompanhe a baixo a classe mãe:"
   ]
  },
  {
   "cell_type": "code",
   "execution_count": 1,
   "metadata": {},
   "outputs": [],
   "source": [
    "class Componente_Elétrico:\n",
    "\n",
    "    def __init__(self,i=None,U=None,R=None):\n",
    "\n",
    "        if [i,U,R].count(None) <= 1: # U = R*i\n",
    "            if i == None:\n",
    "                i = U/R\n",
    "            elif R == None:\n",
    "                R = U/i\n",
    "            elif U == None:\n",
    "                U = R * i\n",
    "        \n",
    "        else:\n",
    "            print(\"Para criar um componente elétrico é necessário determinar pelomenos dois dos três argumentos (corrente,diferença de potencial,resistência)\")\n",
    "\n",
    "        self.corrente = i\n",
    "        self.ddp = U \n",
    "        self.resistencia = R\n",
    "    \n",
    "    def Carga_transportada(self,t):\n",
    "\n",
    "        Q = self.corrente*t\n",
    "\n",
    "        return Q\n"
   ]
  },
  {
   "cell_type": "markdown",
   "metadata": {},
   "source": [
    "Testando..."
   ]
  },
  {
   "cell_type": "code",
   "execution_count": 2,
   "metadata": {},
   "outputs": [
    {
     "name": "stdout",
     "output_type": "stream",
     "text": [
      "2\n",
      "220\n",
      "110.0\n"
     ]
    }
   ],
   "source": [
    "Resistor = Componente_Elétrico(2,U=220)\n",
    "\n",
    "print(Resistor.corrente)\n",
    "print(Resistor.ddp)\n",
    "print(Resistor.resistencia)"
   ]
  },
  {
   "cell_type": "markdown",
   "metadata": {},
   "source": [
    "#### Criando geradores⚡ e lâmpadas💡...\n",
    "Agora podemos criar classes espécificas para cada tipo de componente elétrico, em que serão herdadas algumas características e novas iram surgi. Observe:"
   ]
  },
  {
   "cell_type": "code",
   "execution_count": 3,
   "metadata": {},
   "outputs": [],
   "source": [
    "class Capacitor(Componente_Elétrico):\n",
    "\n",
    "    def __init__(self, C, i=None, U=None, R=None):\n",
    "        super().__init__(i, U, R)\n",
    "\n",
    "        self.capacitância = C\n",
    "\n",
    "    def Energia_acumulada(self):\n",
    "\n",
    "        E = (1/2)*self.capacitância*((self.ddp)**2)\n",
    "        return E\n",
    "    \n",
    "    def Carga_Acumulada(self):\n",
    "\n",
    "        Q = self.capacitância*self.ddp\n",
    "\n",
    "        return Q\n"
   ]
  },
  {
   "cell_type": "code",
   "execution_count": 4,
   "metadata": {},
   "outputs": [],
   "source": [
    "class Gerador(Componente_Elétrico):\n",
    "\n",
    "    def __init__(self, i=None, U=None, R=None):\n",
    "        super().__init__(i, U, R)\n",
    "\n",
    "        self.potência = self.corrente * self.ddp\n",
    "\n",
    "    def Energia_gerada(self,t):\n",
    "\n",
    "        E = self.potência * t\n",
    "\n",
    "        return E"
   ]
  },
  {
   "cell_type": "code",
   "execution_count": 5,
   "metadata": {},
   "outputs": [],
   "source": [
    "class Resistor(Componente_Elétrico):\n",
    "\n",
    "    def __init__(self, i=None, U=None, R=None):\n",
    "        super().__init__(i, U, R)\n",
    "\n",
    "        self.potência = self.corrente * self.ddp\n",
    "\n",
    "    def Energia_dissipada(self,t):\n",
    "        '''Calculo da energia a partir do tempo em segundos'''\n",
    "        \n",
    "        E = self.potência * t\n",
    "\n",
    "        return E"
   ]
  },
  {
   "cell_type": "code",
   "execution_count": 6,
   "metadata": {},
   "outputs": [
    {
     "name": "stdout",
     "output_type": "stream",
     "text": [
      "4\n"
     ]
    },
    {
     "data": {
      "text/plain": [
       "4800"
      ]
     },
     "execution_count": 6,
     "metadata": {},
     "output_type": "execute_result"
    }
   ],
   "source": [
    "lampada = Resistor(i= 4,R=30)\n",
    "\n",
    "print(lampada.corrente)\n",
    "\n",
    "lampada.Energia_dissipada(10)\n"
   ]
  },
  {
   "cell_type": "code",
   "execution_count": 7,
   "metadata": {},
   "outputs": [
    {
     "name": "stdout",
     "output_type": "stream",
     "text": [
      "24200.0\n",
      "121000.0\n"
     ]
    }
   ],
   "source": [
    "gerador = Gerador(U=220,R=2)\n",
    "\n",
    "print(gerador.potência)\n",
    "print(gerador.Energia_gerada(t=5))"
   ]
  },
  {
   "cell_type": "markdown",
   "metadata": {},
   "source": [
    "# Conclusão\n",
    "\n",
    "Com esse exercício podemos compreender uma forma muito útil de representar conceitos científicos, processo que facilitar trabalhar e realizar testes com esse conceito. Assim, foi possível concretiza, a partir desse exemplo a ideia de herança.\n",
    "\n",
    "----------------------------------"
   ]
  },
  {
   "cell_type": "markdown",
   "metadata": {},
   "source": [
    "# Referência\n",
    "\n",
    "https://www.engenhariahibrida.com.br/post/tudo-o-que-voce-precisa-saber-sobre-componentes-eletronicos\n",
    "\n",
    "https://brasilescola.uol.com.br/fisica/capacitores.htm\n",
    "\n",
    "https://mundoeducacao.uol.com.br/fisica/gerador-eletrico.htm\n",
    "\n"
   ]
  }
 ],
 "metadata": {
  "kernelspec": {
   "display_name": "Python 3",
   "language": "python",
   "name": "python3"
  },
  "language_info": {
   "codemirror_mode": {
    "name": "ipython",
    "version": 3
   },
   "file_extension": ".py",
   "mimetype": "text/x-python",
   "name": "python",
   "nbconvert_exporter": "python",
   "pygments_lexer": "ipython3",
   "version": "3.11.6"
  }
 },
 "nbformat": 4,
 "nbformat_minor": 2
}
