{
 "cells": [
  {
   "cell_type": "markdown",
   "metadata": {},
   "source": [
    "<img src=\"https://pages.cnpem.br/workshopbioimagens/wp-content/uploads/sites/166/2023/06/logo-ilum-2048x382.png\" alt=\"Descrição da imagem\" style=\"width: 1000px; height: auto; \">\n",
    "\n",
    "<div style=\" padding: 10px; font-size: 34px; text-align: center;\">\n",
    "<strong>Um Monstro feito de Bolinhas e Pauzinhos</strong> \n",
    "\n",
    "\n",
    "<div style=\" padding: 10px; font-size: 17px; text-align: center;\">\n",
    "<strong>Autor:</strong> Ana Luz Pereira Mendes \n",
    "<div style=\" padding: 10px; font-size: 17px; text-align: center;\">\n",
    "<strong>Professor:</strong> Daniel R. Cassar"
   ]
  },
  {
   "cell_type": "markdown",
   "metadata": {},
   "source": [
    "# Monstrinho 3.2\n",
    "\n",
    "*“Átomos não são bolinhas e ligações químicas não são pauzinhos” — Prof. Julio*\n",
    "\n",
    "Objetivo: Utilize classes de Python para modelar elementos químicos e moléculas.\n",
    "\n",
    "\n",
    "Considerações do experimento: Crie uma classe chamada Elemento. Todo elemento químico utilizado nesta tarefa deve ser uma instância desta classe. Toda instância da classe Elemento deve ter os seguintes atributos: símbolo do elemento, número atômico do elemento e peso atômico do elemento (fique à vontade para incluir outras informações\n",
    "se quiser). Crie uma classe chamada Molecula. Esta classe deve receber um dicionário onde as chaves representam os elementos e os valores representam a quantidade do respectivo elemento. A classe Molecula deve ter um método capaz de exibir o peso atômico 3 da molécula criada e um método capaz gerar uma fórmula química (em string) para esta molécula.\n",
    "\n",
    "\n",
    "Observação: não é necessário que a fórmula química siga as regras oficiais da química,\n",
    "basta representar os elementos existentes e suas quantidades\n",
    "\n",
    "\n",
    "----------------------------"
   ]
  },
  {
   "cell_type": "markdown",
   "metadata": {},
   "source": [
    "### ⚛️ Elementos\n",
    "\n",
    "Primeiramente a baixo está a classe Elemento com três atributos."
   ]
  },
  {
   "cell_type": "code",
   "execution_count": 1,
   "metadata": {},
   "outputs": [],
   "source": [
    "class Elemento:\n",
    "    '''Elementos da tabela periódica'''\n",
    "\n",
    "    def __init__(self,simbolo_elemento,numero_atomico,peso_atomico):\n",
    "        self.s_elemento = simbolo_elemento \n",
    "        self.n_atomico = numero_atomico\n",
    "        self.p_atomico = peso_atomico\n",
    "    \n",
    "    def __repr__(self):\n",
    "        return f\"Esse é o elemento {self.s_elemento} de número atômico {self.n_atomico} com peso {self.p_atomico}\"\n",
    "    \n",
    "    \n",
    "\n"
   ]
  },
  {
   "cell_type": "markdown",
   "metadata": {},
   "source": [
    "Testando e criando elementos..."
   ]
  },
  {
   "cell_type": "code",
   "execution_count": 2,
   "metadata": {},
   "outputs": [
    {
     "data": {
      "text/plain": [
       "Esse é o elemento O de número atômico 8 com peso 16"
      ]
     },
     "execution_count": 2,
     "metadata": {},
     "output_type": "execute_result"
    }
   ],
   "source": [
    "Oxigenio = Elemento(\"O\",8,16)\n",
    "Carbono = Elemento(\"C\",6,12)\n",
    "Hidrogenio = Elemento(\"H\",1,1)\n",
    "\n",
    "Oxigenio\n",
    "\n",
    "\n"
   ]
  },
  {
   "cell_type": "markdown",
   "metadata": {},
   "source": [
    "### 🧪Moléculas\n",
    "\n",
    "Utilizando o fato que existe uma classe elemento, agora iremos criar uma molécula a partir da definição de outra classe chamada móleculas e iremos utilizar os objetos criados anteriomente da classe elemento para conseguir fazer um método que calcula o peso.\n",
    "\n",
    "Para isso devemos lembra de duas coisa: que podemos definir atributos que são dicionários e ,na criação do método peso, devemos verificar se estamos recebendo um objeto que faça parte da classe molécula."
   ]
  },
  {
   "cell_type": "code",
   "execution_count": 3,
   "metadata": {},
   "outputs": [],
   "source": [
    "class Molécula():\n",
    "    '''Moléculas a partir de instâncias da classe Elemento'''\n",
    "\n",
    "    def __init__(self, dicionario):\n",
    "\n",
    "        self.dicio = dicionario #Repare que aqui criamos um atributo que pode ser um dicionário\n",
    "    \n",
    "    \n",
    "    def peso(self, *elemento):\n",
    "\n",
    "        peso = 0\n",
    "        for e in elemento:\n",
    "             if isinstance(e, Elemento): #É importante verificar se estamos recebendo o que queremos\n",
    "\n",
    "                peso = peso + (e.p_atomico * self.dicio[e.s_elemento])\n",
    "             else:\n",
    "                 print(f\"Você adicionou um objeto {e} que não faz parte da classe Elemento!\")\n",
    "            \n",
    "        \n",
    "        return peso\n",
    "\n",
    "\n",
    "\n",
    "        "
   ]
  },
  {
   "cell_type": "code",
   "execution_count": 4,
   "metadata": {},
   "outputs": [
    {
     "data": {
      "text/plain": [
       "16"
      ]
     },
     "execution_count": 4,
     "metadata": {},
     "output_type": "execute_result"
    }
   ],
   "source": [
    "Metano = Molécula({\"C\":1,\"H\":4})\n",
    "\n",
    "Metano.peso(Carbono,Hidrogenio)"
   ]
  },
  {
   "cell_type": "markdown",
   "metadata": {},
   "source": [
    "### ⚗️Molécula 1.2\n",
    "Depois de diversas discussões com colegas de classe como o José Vitor e a Julia Guedes cheguei em um formato mais sintético, uma vez que como chave do dicionário serão utilizados o próprio objetos da classe elmento, acompanhe:"
   ]
  },
  {
   "cell_type": "code",
   "execution_count": 5,
   "metadata": {},
   "outputs": [],
   "source": [
    "class Molécula_2():\n",
    "    '''Moléculas a partir de instâncias da classe Elemento'''\n",
    "\n",
    "    def __init__(self,dicionario):\n",
    "\n",
    "        self.dicio = dicionario\n",
    "    \n",
    "    \n",
    "    def peso(self):\n",
    "\n",
    "        peso = 0\n",
    "\n",
    "        for elemento,quantidade in self.dicio.items():\n",
    "\n",
    "            peso += elemento.p_atomico*quantidade    \n",
    "        \n",
    "        return peso\n",
    "    \n",
    "    def formula(self):\n",
    "        formula = \" \"\n",
    "\n",
    "        for elemento,quantidade in self.dicio.items():\n",
    "            str_quant = f\"{quantidade}\"\n",
    "            formula += elemento.s_elemento + str_quant\n",
    "        \n",
    "        print(formula)\n",
    "        \n",
    "\n",
    "    "
   ]
  },
  {
   "cell_type": "code",
   "execution_count": 6,
   "metadata": {},
   "outputs": [
    {
     "data": {
      "text/plain": [
       "16"
      ]
     },
     "execution_count": 6,
     "metadata": {},
     "output_type": "execute_result"
    }
   ],
   "source": [
    "Metano = Molécula_2({Carbono:1,Hidrogenio:4})\n",
    "\n",
    "Metano.peso()"
   ]
  },
  {
   "cell_type": "code",
   "execution_count": 7,
   "metadata": {},
   "outputs": [
    {
     "name": "stdout",
     "output_type": "stream",
     "text": [
      " C1H4\n"
     ]
    }
   ],
   "source": [
    "Metano.formula()"
   ]
  },
  {
   "cell_type": "markdown",
   "metadata": {},
   "source": [
    "# Conclusão\n",
    "\n",
    "Esse caderno é muito importante para consolidar o conceito de classe e entender como elas podem interagir ente si, além disso aqui também foi explorado como podemos usar dicionários feitos por objetos de classes e como isso facilita a escrita do código.\n",
    "\n",
    "\n",
    "----------------"
   ]
  },
  {
   "cell_type": "markdown",
   "metadata": {},
   "source": [
    "# Referências\n",
    "\n",
    "https://www.todamateria.com.br/tabela-periodica/"
   ]
  }
 ],
 "metadata": {
  "kernelspec": {
   "display_name": "Python 3",
   "language": "python",
   "name": "python3"
  },
  "language_info": {
   "codemirror_mode": {
    "name": "ipython",
    "version": 3
   },
   "file_extension": ".py",
   "mimetype": "text/x-python",
   "name": "python",
   "nbconvert_exporter": "python",
   "pygments_lexer": "ipython3",
   "version": "3.11.6"
  }
 },
 "nbformat": 4,
 "nbformat_minor": 2
}
