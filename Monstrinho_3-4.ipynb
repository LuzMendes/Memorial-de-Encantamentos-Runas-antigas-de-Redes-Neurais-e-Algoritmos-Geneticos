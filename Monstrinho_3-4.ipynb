{
 "cells": [
  {
   "cell_type": "markdown",
   "metadata": {},
   "source": [
    "<img src=\"https://pages.cnpem.br/workshopbioimagens/wp-content/uploads/sites/166/2023/06/logo-ilum-2048x382.png\" alt=\"Descrição da imagem\" style=\"width: 1000px; height: auto; \">\n",
    "\n",
    "<div style=\" padding: 10px; font-size: 34px; text-align: center;\">\n",
    "<strong>Batalha EletroDunder: O retorno</strong> \n",
    "\n",
    "\n",
    "<div style=\" padding: 10px; font-size: 17px; text-align: center;\">\n",
    "<strong>Autor:</strong> Ana Luz Pereira Mendes \n",
    "<div style=\" padding: 10px; font-size: 17px; text-align: center;\">\n",
    "<strong>Professor:</strong> Daniel R. Cassar"
   ]
  },
  {
   "cell_type": "markdown",
   "metadata": {},
   "source": [
    "# Monstrinho 3.4 \n",
    "Objetivo: Se informe sobre métodos dunder que não foram utilizados no material de\n",
    "aula e crie uma classe que contenha pelo menos 3 destes métodos dunder. Faça códigos\n",
    "onde cada um destes métodos dunder seja acessado sem os chamar explicitamente (exem\u0002plo: não é para rodar a.__add__(b) mas sim a + b para o caso do dunder __add__).\n",
    "\n",
    "Considerações do experimento: A classe deve conter pelo menos 3 métodos dunder\n",
    "que não foram vistos no material da disciplina. Sua classe deve fazer sentido, isto é, não\n",
    "crie uma classe “sem pé nem cabeça” apenas para a entrega. Reflita sobre uma classe\n",
    "onde os métodos dunder propostos realmente fazem sentido. Na sua entrega, explique\n",
    "brevemente o que fazem os métodos dunder que escolheu e mostre eles em ação com uma\n",
    "instância da sua classe.\n",
    "\n",
    "--------------"
   ]
  },
  {
   "cell_type": "markdown",
   "metadata": {},
   "source": [
    "# Prelimináres\n",
    "\n",
    "Para enfrentar esse mosntro, foi optado utilizar o as classes já criados no Monstrinho 3.3. Assim, a baixo estão as classes que iremos utilizar: "
   ]
  },
  {
   "cell_type": "code",
   "execution_count": 1,
   "metadata": {},
   "outputs": [],
   "source": [
    "class Componente_Elétrico:\n",
    "\n",
    "    def __init__(self,i=None,U=None,R=None):\n",
    "\n",
    "        if [i,U,R].count(None)<= 1: # U = R*i\n",
    "            if i == None:\n",
    "                i = U/R\n",
    "            elif R == None:\n",
    "                R = U/i\n",
    "            elif U == None:\n",
    "                U = R * i\n",
    "        \n",
    "        else:\n",
    "            print(\"Para criar um componente elétrico é necessário determinar pelomenos dois dos três argumentos (corrente,diferença de potencial,resistência)\")\n",
    "\n",
    "        self.corrente = i\n",
    "        self.ddp = U \n",
    "        self.resistencia = R\n",
    "    \n",
    "    def Carga_transportada(self,t):\n",
    "\n",
    "        Q = self.corrente*t\n",
    "\n",
    "        return Q\n",
    "    \n",
    "\n",
    "class Capacitor(Componente_Elétrico):\n",
    "\n",
    "    def __init__(self, i=None, U=None, R=None):\n",
    "        super().__init__(i, U, R)\n",
    "\n",
    "        self.capacitância = C\n",
    "    \n",
    "    def __repr__(self):\n",
    "        return \"Capacitor\"\n",
    "\n",
    "    def Energia_acumulada(self):\n",
    "\n",
    "        E = (1/2)*self.capacitância*((self.ddp)**2)\n",
    "        return E\n",
    "    \n",
    "    def Carga_Acumulada(self):\n",
    "\n",
    "        Q = self.capacitância*self.ddp\n",
    "\n",
    "        return Q\n",
    "\n",
    "class Gerador(Componente_Elétrico):\n",
    "\n",
    "    def __init__(self, i=None, U=None, R=None):\n",
    "        super().__init__(i, U, R)\n",
    "\n",
    "        self.potência = self.corrente * self.ddp\n",
    "\n",
    "    def __repr__(self):\n",
    "        return \"Gerador\"\n",
    "\n",
    "    def Energia_gerada(self,t):\n",
    "\n",
    "        E = self.potência * t\n",
    "\n",
    "        return E\n",
    "    \n",
    "class Resistor(Componente_Elétrico):\n",
    "\n",
    "    def __init__(self, i=None, U=None, R=None):\n",
    "        super().__init__(i, U, R)\n",
    "\n",
    "        self.potência = self.corrente * self.ddp\n",
    "\n",
    "    def __repr__(self):\n",
    "        return \"Resistor\"\n",
    "\n",
    "    def Energia_dissipada(self,t):\n",
    "        \n",
    "        E = self.potência * t\n",
    "\n",
    "        return E\n",
    "\n"
   ]
  },
  {
   "cell_type": "markdown",
   "metadata": {},
   "source": [
    "# Criando circuitos...\n",
    "\n",
    "Como temos componebtes elétricos podemos tentar criar circuitos com eles. Para isso podemos criar uma classe que trabelha com objetos da classe componentes elétricos apresentada em prelimináres. Mas para ficar mais dinamico e cumprir com os requisitos desse mosntrinho vamos utilizar 3 métodos dunder que não foram vistos na disciplina. Portanto, teremos;\n",
    "\n",
    "-  __ __and__ __ (x & y): Que siguinificará a associação em serie entre um circuito e um novo componente elétrico.\n",
    "\n",
    "-  __ __or__ __ (x | y): Que siguinificará a associação em paralelo entre um circuito e um novo componente elétrico.\n",
    "\n",
    "-  __ __matmul__ __ (x @ y): Que retornará uma tabela com o valor da diferença de potencial e da resistência dos dois circuitos.\n",
    "\n",
    "Acompanhe o código a baixo:"
   ]
  },
  {
   "cell_type": "code",
   "execution_count": 2,
   "metadata": {},
   "outputs": [],
   "source": [
    "import networkx as nx\n",
    "import matplotlib.pyplot as plt\n",
    "\n",
    "class Circuito():\n",
    "\n",
    "    def __init__(self,gerador):\n",
    "\n",
    "        if isinstance(gerador, Gerador):\n",
    "\n",
    "            self.gerador = gerador\n",
    "            self.ddp_aplicada = gerador.ddp\n",
    "            self.resistencia = gerador.resistencia\n",
    "            self.dicio = {gerador: [\"n_1\"],\n",
    "                          \"n_1\" : [gerador]\n",
    "                          }\n",
    "            \n",
    "            self.numero_ultimo_no = 1\n",
    "\n",
    "        else:\n",
    "            print(\"É necessário ter uma fonte de energia para o nosso circuito! Crie um gerador usando a classe Gerador!\")\n",
    "\n",
    "    def __repr__(self):\n",
    "\n",
    "        # Criar um grafo\n",
    "        G = nx.Graph()\n",
    "\n",
    "\n",
    "        # Adicionar nós e arestas\n",
    "        for nodo, vizinhos in self.dicio.items():\n",
    "            for vizinho in vizinhos:\n",
    "                G.add_edge(nodo, vizinho)\n",
    "\n",
    "        # Desenhar o circuito\n",
    "        plt.figure(figsize=(6,4))\n",
    "        pos = nx.spring_layout(G)  # Layout para melhor visualização\n",
    "        nx.draw(G, pos, with_labels=True, node_color='lightblue', edge_color='black', node_size=2000, font_size=12)\n",
    "        plt.title(\"Circuito\")\n",
    "        plt.show()\n",
    "\n",
    "        return f''\n",
    "\n",
    "\n",
    "    def __and__(self,outro):\n",
    "        '''associa o componete em série: circuto & lampada'''\n",
    "        #pegar o ultimo nó e adiciona \"outro\"\n",
    "\n",
    "        ultimo_no = list(self.dicio.keys())[-1]\n",
    "\n",
    "        self.dicio[ultimo_no] = [outro]\n",
    "        self.numero_ultimo_no += 1\n",
    "\n",
    "        self.dicio[outro] = [f\"n_{self.numero_ultimo_no}\"]\n",
    "        self.dicio[f\"n_{self.numero_ultimo_no}\"] = [self.gerador]\n",
    "\n",
    "        self.resistencia += outro.resistencia\n",
    "\n",
    "        return self\n",
    "\n",
    "\n",
    "    def __or__(self,outro):\n",
    "        '''associa o componete em paralelo: circuto | lampada'''\n",
    "         \n",
    "        penultimo_no = list(self.dicio.keys())[-3]\n",
    "        ultimo_no = list(self.dicio.keys())[-1]\n",
    "         \n",
    "        print(f\"penultimo no{penultimo_no}\")\n",
    "\n",
    "        self.dicio[penultimo_no].append(outro)\n",
    "        self.dicio[outro] = [ultimo_no]\n",
    "        self.dicio.pop(ultimo_no)\n",
    "        self.dicio[ultimo_no] = [self.gerador]\n",
    "\n",
    "        resistor_paralelo = list(self.dicio.keys())[-2]\n",
    "\n",
    "        self.resistencia -= resistor_paralelo.resistencia\n",
    "        self.resistencia += (resistor_paralelo.resistencia)**(-1)+(outro.resistencia)**(-1)\n",
    "\n",
    "        return self\n",
    "\n",
    "    \n",
    "    def __matmul__(self,outro):\n",
    "        '''Compara os dois circuitos quanto resistencia e ddp'''\n",
    "        if isinstance(outro,Circuito):\n",
    "\n",
    "            tabela = {}\n",
    "\n",
    "            tabela[\"Circuito 1\"] = {\"ddp\": self.ddp_aplicada,\"resistência total\": self.resistencia, \"corrente\":(self.ddp_aplicada/self.resistencia)}\n",
    "            tabela[\"Circuito 2\"] = {\"ddp\": outro.ddp_aplicada,\"resistência total\": outro.resistencia, \"corrente\":(outro.ddp_aplicada/outro.resistencia)}\n",
    "                \n",
    "            return tabela\n",
    "        else:\n",
    "            print(\"Para comparar é necessário que os dois objetos pertenção a classe Circuito\")\n",
    "        "
   ]
  },
  {
   "cell_type": "markdown",
   "metadata": {},
   "source": [
    "Vamos agora criar componentes elétricos  e instanciar um circuito:"
   ]
  },
  {
   "cell_type": "code",
   "execution_count": 3,
   "metadata": {},
   "outputs": [
    {
     "ename": "NameError",
     "evalue": "name 'circuito' is not defined",
     "output_type": "error",
     "traceback": [
      "\u001b[1;31m---------------------------------------------------------------------------\u001b[0m",
      "\u001b[1;31mNameError\u001b[0m                                 Traceback (most recent call last)",
      "Cell \u001b[1;32mIn[3], line 7\u001b[0m\n\u001b[0;32m      3\u001b[0m tomada \u001b[38;5;241m=\u001b[39m Gerador(R\u001b[38;5;241m=\u001b[39m\u001b[38;5;241m1\u001b[39m,U\u001b[38;5;241m=\u001b[39m\u001b[38;5;241m220\u001b[39m)\n\u001b[0;32m      5\u001b[0m circuito_1 \u001b[38;5;241m=\u001b[39m Circuito(tomada)\n\u001b[1;32m----> 7\u001b[0m \u001b[43mcircuito\u001b[49m\n",
      "\u001b[1;31mNameError\u001b[0m: name 'circuito' is not defined"
     ]
    }
   ],
   "source": [
    "lampada = Resistor(R=30,U=220)\n",
    "lampada_vermelha= Resistor(R=30,U=220)\n",
    "tomada = Gerador(R=1,U=220)\n",
    "\n",
    "circuito_1 = Circuito(tomada)\n",
    "\n",
    "circuito\n"
   ]
  },
  {
   "cell_type": "markdown",
   "metadata": {},
   "source": [
    "Testando os métodos ciados temos:"
   ]
  },
  {
   "cell_type": "code",
   "execution_count": 81,
   "metadata": {},
   "outputs": [
    {
     "data": {
      "image/png": "[encoded data removed]",
      "text/plain": [
       "<Figure size 600x400 with 1 Axes>"
      ]
     },
     "metadata": {},
     "output_type": "display_data"
    },
    {
     "data": {
      "text/plain": []
     },
     "execution_count": 81,
     "metadata": {},
     "output_type": "execute_result"
    }
   ],
   "source": [
    "circuito_1 & lampada\n",
    "\n",
    "circuito_1.dicio\n",
    "\n",
    "circuito_1"
   ]
  },
  {
   "cell_type": "code",
   "execution_count": 82,
   "metadata": {},
   "outputs": [
    {
     "name": "stdout",
     "output_type": "stream",
     "text": [
      "penultimo non_1\n"
     ]
    },
    {
     "data": {
      "image/png": "[encoded data removed]",
      "text/plain": [
       "<Figure size 600x400 with 1 Axes>"
      ]
     },
     "metadata": {},
     "output_type": "display_data"
    },
    {
     "data": {
      "text/plain": []
     },
     "execution_count": 82,
     "metadata": {},
     "output_type": "execute_result"
    }
   ],
   "source": [
    "circuito_1 | lampada_vermelha\n",
    "\n",
    "circuito_1.dicio\n",
    "\n",
    "circuito_1\n",
    "\n"
   ]
  },
  {
   "cell_type": "code",
   "execution_count": 83,
   "metadata": {},
   "outputs": [
    {
     "name": "stdout",
     "output_type": "stream",
     "text": [
      "<class '__main__.Circuito'>\n",
      "<class '__main__.Circuito'>\n"
     ]
    },
    {
     "data": {
      "text/plain": [
       "{'Circuito 1': {'ddp': 220,\n",
       "  'resistência total': 1.0666666666666667,\n",
       "  'corrente': 206.25},\n",
       " 'Circuito 2': {'ddp': 220,\n",
       "  'resistência total': 31,\n",
       "  'corrente': 7.096774193548387}}"
      ]
     },
     "execution_count": 83,
     "metadata": {},
     "output_type": "execute_result"
    }
   ],
   "source": [
    "circuito_2 = Circuito(tomada)\n",
    "circuito_2 & lampada_vermelha\n",
    "\n",
    "print(type(circuito_1))\n",
    "print(type(circuito_2))\n",
    "\n",
    "\n",
    "circuito_1 @ circuito_2"
   ]
  },
  {
   "cell_type": "markdown",
   "metadata": {},
   "source": [
    "# Conclusão\n",
    "\n",
    "Esse monstrinho foi muito importante para conhecer novos métodos dunder e usar a criatividade para atribuir novos significados e ações a eles. Como pensamentos futuros fica como ideia criar os métosd __ __rand__ __ e __ __ror__ __. "
   ]
  },
  {
   "cell_type": "markdown",
   "metadata": {},
   "source": [
    "-----------"
   ]
  },
  {
   "cell_type": "markdown",
   "metadata": {},
   "source": [
    "# Referências\n",
    "\n",
    "https://www.pythonmorsels.com/every-dunder-method/\n",
    "\n",
    "https://chatgpt.com/share/67e85462-eea0-800c-aab0-04e2c1aff95e"
   ]
  }
 ],
 "metadata": {
  "kernelspec": {
   "display_name": "Python 3",
   "language": "python",
   "name": "python3"
  },
  "language_info": {
   "codemirror_mode": {
    "name": "ipython",
    "version": 3
   },
   "file_extension": ".py",
   "mimetype": "text/x-python",
   "name": "python",
   "nbconvert_exporter": "python",
   "pygments_lexer": "ipython3",
   "version": "3.11.6"
  }
 },
 "nbformat": 4,
 "nbformat_minor": 2
}
